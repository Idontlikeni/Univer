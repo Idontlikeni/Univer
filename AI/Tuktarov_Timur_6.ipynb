{
  "cells": [
    {
      "cell_type": "markdown",
      "metadata": {
        "cell_id": "e7371719225245b389c7351c0f536887",
        "deepnote_cell_type": "markdown"
      },
      "source": [
        "`"
      ]
    },
    {
      "cell_type": "markdown",
      "metadata": {
        "cell_id": "1b1cccc3ff074027b5252b0fafd1153c",
        "deepnote_cell_type": "markdown"
      },
      "source": [
        "### 1.1.1 Пример\n",
        "Пусть дана начальная популяция из четырех хромосом с двумя генами x и y. Показатель качества хромосомы оценивается функцией Z.\n",
        "При равном качестве хромосом предпочтение отдается хромосоме с большим номером. На каждом этапе хромосома a с высшим качеством порождает четыре новых хромосомы b1, c1, b2, c2, обмениваясь генами с двумя хромосомами b и c более низкого качества по указанной схеме:\n",
        "\n",
        "Последняя хромоcома (с низшим качеством) выбывает из популяции. Найти максимальный показатель качества хромосомы в популяции и общее качество популяции после четырех этапов эволюции.\n",
        "\n",
        "Потребуется несколько функций для реализации алгоритма. Напишем их."
      ]
    },
    {
      "cell_type": "code",
      "execution_count": 1,
      "metadata": {
        "cell_id": "3b67b40527604a6a969bbd96016ab467",
        "deepnote_cell_type": "code",
        "deepnote_to_be_reexecuted": false,
        "execution_millis": 5,
        "execution_start": 1682676718003,
        "source_hash": "803934cc"
      },
      "outputs": [],
      "source": [
        "#функция качества хромосомы\n",
        "def qZ(x, y):\n",
        "    return (x - 3 * y + 1) / (3 * x ** 2 + 3 * y ** 2 + 1)"
      ]
    },
    {
      "cell_type": "code",
      "execution_count": 2,
      "metadata": {
        "cell_id": "a0b606bd7ccb4870bc145a31f7212cb3",
        "deepnote_cell_type": "code",
        "deepnote_to_be_reexecuted": false,
        "execution_millis": 4,
        "execution_start": 1682676718004,
        "source_hash": "d35fa529"
      },
      "outputs": [],
      "source": [
        "#сумма качества хромосом\n",
        "def qSumZ(Z): \n",
        "    return sum(Z)"
      ]
    },
    {
      "cell_type": "markdown",
      "metadata": {
        "cell_id": "810f096551234ca6940f976b87889fcd",
        "deepnote_cell_type": "markdown"
      },
      "source": [
        "И запрограммируем представленную выше схему обмена хромосомами"
      ]
    },
    {
      "cell_type": "code",
      "execution_count": 3,
      "metadata": {
        "cell_id": "619c2662389540d4b5cb14cbfdffec45",
        "deepnote_cell_type": "code",
        "deepnote_to_be_reexecuted": false,
        "execution_millis": 2,
        "execution_start": 1682676718010,
        "source_hash": "f5fc6718"
      },
      "outputs": [],
      "source": [
        "def exchangeScheme(oldX, oldY, sortedId):\n",
        "    x = [0 for i in range(4)]\n",
        "    y = [0 for i in range(4)]\n",
        "    \n",
        "    x[2] = oldX[sortedId[2]]\n",
        "    x[3] = oldX[sortedId[2]]\n",
        "    \n",
        "    x[0] = oldX[sortedId[0]]\n",
        "    \n",
        "    x[1] = oldX[sortedId[1]]\n",
        "    \n",
        "    y[0] = oldY[sortedId[2]]\n",
        "    y[1] = oldY[sortedId[2]]\n",
        "    \n",
        "    y[2] = oldY[sortedId[0]]\n",
        "    \n",
        "    y[3] = oldY[sortedId[1]]\n",
        "    \n",
        "    return x, y"
      ]
    },
    {
      "cell_type": "markdown",
      "metadata": {
        "cell_id": "ef62742a11e841fd90084b59e8886a33",
        "deepnote_cell_type": "markdown"
      },
      "source": [
        "Отсортируем массив качества наших потомков и выделим полученные индексы"
      ]
    },
    {
      "cell_type": "code",
      "execution_count": 4,
      "metadata": {
        "cell_id": "00693b8ae1aa407aa7136b67c3cee834",
        "deepnote_cell_type": "code",
        "deepnote_to_be_reexecuted": false,
        "execution_millis": 0,
        "execution_start": 1682676718011,
        "source_hash": "5d157e99"
      },
      "outputs": [],
      "source": [
        "def sorting(Z):\n",
        "    sortedId = sorted(range(len(Z)), key=lambda k: Z[k])\n",
        "    return sortedId"
      ]
    },
    {
      "cell_type": "code",
      "execution_count": 5,
      "metadata": {
        "cell_id": "c03fad6e61ca432a8b131157d4cb6ac6",
        "deepnote_cell_type": "code",
        "deepnote_to_be_reexecuted": false,
        "execution_millis": 29,
        "execution_start": 1682676718039,
        "source_hash": "cf31ab4f"
      },
      "outputs": [],
      "source": [
        "#шаг эволюции\n",
        "def evoStep(x, y, z):\n",
        "    _, minId = min((value, id) for (id, value) in enumerate(z))\n",
        "    x = x[:]\n",
        "    y = y[:]\n",
        "    z = z[:]\n",
        "    \n",
        "    x.pop(minId)\n",
        "    y.pop(minId)\n",
        "    z.pop(minId)\n",
        "    \n",
        "    return x, y, z"
      ]
    },
    {
      "cell_type": "code",
      "execution_count": 6,
      "metadata": {
        "cell_id": "87ef42454beb426eb7323fa185f067b8",
        "deepnote_cell_type": "code",
        "deepnote_to_be_reexecuted": false,
        "execution_millis": 3,
        "execution_start": 1682676718089,
        "source_hash": "be115602"
      },
      "outputs": [],
      "source": [
        "#шаги эволюции (конечная функция), по умолчанию 4 шага\n",
        "def evoSteps(x, y, steps_num=4):\n",
        "    results = []\n",
        "    \n",
        "    for i in range(steps_num):\n",
        "        arrZ = [qZ(k, y[i]) for i, k in enumerate(x)]\n",
        "        \n",
        "        x, y, z = evoStep(x, y, arrZ)\n",
        "        \n",
        "        x, y = exchangeScheme(x, y, sorting(z))\n",
        "        \n",
        "        results.append([x, y, qSumZ(arrZ), arrZ])\n",
        "    \n",
        "    return x, y, results"
      ]
    },
    {
      "cell_type": "markdown",
      "metadata": {
        "cell_id": "24429d0dc7034fcbafdb83d4c90dcca2",
        "deepnote_cell_type": "markdown"
      },
      "source": [
        "Теперь, когда мы подготовились к решению задачи, написав все необходимые функции для реализации генетического алгоритма (оценки качества хромосом, сортировки потомков и эволюционных шагов), решим задачу в числах. Пусть даны следующие массивы хромосом X и Y:"
      ]
    },
    {
      "cell_type": "code",
      "execution_count": 7,
      "metadata": {
        "cell_id": "b005ccc24e554a7dae127117cf5bcb30",
        "deepnote_cell_type": "code",
        "deepnote_to_be_reexecuted": false,
        "execution_millis": 10,
        "execution_start": 1682676718089,
        "source_hash": "5cba6740"
      },
      "outputs": [],
      "source": [
        "# объявление массивов хромосом\n",
        "x = [-2, -1, 0, 1]\n",
        "y = [-2, -1, 0, 1]\n",
        "\n",
        "# реализация алгоритма\n",
        "results = evoSteps(x, y)"
      ]
    },
    {
      "cell_type": "markdown",
      "metadata": {
        "cell_id": "e95d510ca7294107b7dc0050edd124af",
        "deepnote_cell_type": "markdown"
      },
      "source": [
        "Теперь, выведем полученные значения для показателя качества хромосомы в популяции и общее качество популяции после четырех этапов эволюции. Для этого, воспользуемся циклом по значениям переменной results."
      ]
    },
    {
      "cell_type": "code",
      "execution_count": 8,
      "metadata": {
        "cell_id": "ca12ad0e72f5427d9373060d8f6c37da",
        "deepnote_cell_type": "code",
        "deepnote_to_be_reexecuted": false,
        "execution_millis": 10,
        "execution_start": 1682676718089,
        "source_hash": "427bd372"
      },
      "outputs": [
        {
          "name": "stdout",
          "output_type": "stream",
          "text": [
            "max_1_step: 1.4857142857142858\n",
            "max_2_step: 1.4615384615384615\n",
            "max_3_step: 2.967032967032967\n",
            "max_4_step: 3.5384615384615383\n",
            "max Z: 1.0\n"
          ]
        }
      ],
      "source": [
        "for i in range(len(results[2])):\n",
        "    print(f'max_{i + 1}_step: {results[2][i][2]}')\n",
        "\n",
        "qualityArrZ = []\n",
        "for i in range(len(results[2])):\n",
        "    qualityArrZ += results[2][i][3]\n",
        "\n",
        "print(f'max Z: {max(qualityArrZ)}')"
      ]
    },
    {
      "cell_type": "markdown",
      "metadata": {
        "cell_id": "8c1f95b457e64b64b8dd85120f47d1be",
        "deepnote_cell_type": "markdown"
      },
      "source": [
        "### Задание\n",
        "Выполните по вариантам соответственно реализацию генетического алгоритма в соответствии с приложенными начальными данными.\n",
        "\n",
        "![img](https://i.ibb.co/yXxHFkj/image.png)"
      ]
    },
    {
      "cell_type": "code",
      "execution_count": 37,
      "metadata": {
        "cell_id": "896f3e569e0f48ab81fa2ea6ced4478f",
        "deepnote_cell_type": "code",
        "deepnote_to_be_reexecuted": false,
        "execution_millis": 8,
        "execution_start": 1682676718098,
        "source_hash": "64911570"
      },
      "outputs": [],
      "source": [
        "#функция качества хромосомы\n",
        "def qZ(x, y):\n",
        "    return (x - 3 * y) / (2 * x ** 2 + 2 * y ** 2 + 1)"
      ]
    },
    {
      "cell_type": "code",
      "execution_count": 10,
      "metadata": {
        "cell_id": "d5fbd825733a4253acb15e820eb26178",
        "deepnote_cell_type": "code",
        "deepnote_to_be_reexecuted": false,
        "execution_millis": 4,
        "execution_start": 1682676718106,
        "source_hash": "d35fa529"
      },
      "outputs": [],
      "source": [
        "#сумма качества хромосом\n",
        "def qSumZ(Z):\n",
        "    return sum(Z)"
      ]
    },
    {
      "cell_type": "code",
      "execution_count": 11,
      "metadata": {
        "cell_id": "57864ec6cc9a49a5a506c7647c54c767",
        "deepnote_cell_type": "code",
        "deepnote_to_be_reexecuted": false,
        "execution_millis": 0,
        "execution_start": 1682676718110,
        "source_hash": "f5fc6718"
      },
      "outputs": [],
      "source": [
        "def exchangeScheme(oldX, oldY, sortedId):\n",
        "    x = [0 for i in range(4)]\n",
        "    y = [0 for i in range(4)]\n",
        "    \n",
        "    x[2] = oldX[sortedId[2]]\n",
        "    x[3] = oldX[sortedId[2]]\n",
        "    \n",
        "    x[0] = oldX[sortedId[0]]\n",
        "    \n",
        "    x[1] = oldX[sortedId[1]]\n",
        "    \n",
        "    y[0] = oldY[sortedId[2]]\n",
        "    y[1] = oldY[sortedId[2]]\n",
        "    \n",
        "    y[2] = oldY[sortedId[0]]\n",
        "    \n",
        "    y[3] = oldY[sortedId[1]]\n",
        "    \n",
        "    return x, y"
      ]
    },
    {
      "cell_type": "code",
      "execution_count": 12,
      "metadata": {
        "cell_id": "53c05428689d4f7f84c6c85ba1080454",
        "deepnote_cell_type": "code",
        "deepnote_to_be_reexecuted": false,
        "execution_millis": 5,
        "execution_start": 1682676718110,
        "source_hash": "5d157e99"
      },
      "outputs": [],
      "source": [
        "def sorting(Z):\n",
        "    sortedId = sorted(range(len(Z)), key=lambda k: Z[k])\n",
        "    return sortedId"
      ]
    },
    {
      "cell_type": "code",
      "execution_count": 13,
      "metadata": {
        "cell_id": "2acdceedb5914eccade2ee9559ed7d4e",
        "deepnote_cell_type": "code",
        "deepnote_to_be_reexecuted": false,
        "execution_millis": 0,
        "execution_start": 1682676718115,
        "source_hash": "cf31ab4f"
      },
      "outputs": [],
      "source": [
        "#шаг эволюции\n",
        "def evoStep(x, y, z):\n",
        "    _, minId = min((value, id) for (id, value) in enumerate(z))\n",
        "    x = x[:]\n",
        "    y = y[:]\n",
        "    z = z[:]\n",
        "    \n",
        "    x.pop(minId)\n",
        "    y.pop(minId)\n",
        "    z.pop(minId)\n",
        "    \n",
        "    return x, y, z"
      ]
    },
    {
      "cell_type": "code",
      "execution_count": 14,
      "metadata": {
        "cell_id": "4e2424a9105e48169950189b13b44356",
        "deepnote_cell_type": "code",
        "deepnote_to_be_reexecuted": false,
        "execution_millis": 37,
        "execution_start": 1682676718145,
        "source_hash": "be115602"
      },
      "outputs": [],
      "source": [
        "#шаги эволюции (конечная функция), по умолчанию 4 шага\n",
        "def evoSteps(x, y, steps_num=4):\n",
        "    results = []\n",
        "    \n",
        "    for i in range(steps_num):\n",
        "        arrZ = [qZ(k, y[i]) for i, k in enumerate(x)]\n",
        "        \n",
        "        x, y, z = evoStep(x, y, arrZ)\n",
        "        \n",
        "        x, y = exchangeScheme(x, y, sorting(z))\n",
        "        \n",
        "        results.append([x, y, qSumZ(arrZ), arrZ])\n",
        "    \n",
        "    return x, y, results"
      ]
    },
    {
      "cell_type": "code",
      "execution_count": 38,
      "metadata": {
        "cell_id": "5bc4d0b037a946f699cb95a8fa2fe29a",
        "deepnote_cell_type": "code",
        "deepnote_to_be_reexecuted": false,
        "execution_millis": 4,
        "execution_start": 1682676758658,
        "source_hash": "16088ac8"
      },
      "outputs": [],
      "source": [
        "# объявление массивов хромосом\n",
        "x = [-1, 0, 2, 3]\n",
        "y = [0, 1, -2, 2]\n",
        "\n",
        "# реализация алгоритма\n",
        "results = evoSteps(x, y)"
      ]
    },
    {
      "cell_type": "code",
      "execution_count": 39,
      "metadata": {
        "cell_id": "925c5fd5e3c3491d863d21fa7ee9f428",
        "deepnote_cell_type": "code",
        "deepnote_to_be_reexecuted": false,
        "execution_millis": 15,
        "execution_start": 1682676826842,
        "source_hash": "427bd372"
      },
      "outputs": [
        {
          "name": "stdout",
          "output_type": "stream",
          "text": [
            "max_1_step: -0.9738562091503268\n",
            "max_2_step: 0.7748068924539513\n",
            "max_3_step: 0.9251336898395721\n",
            "max_4_step: 1.7290552584670231\n",
            "max Z: 0.47058823529411764\n"
          ]
        }
      ],
      "source": [
        "for i in range(len(results[2])):\n",
        "    print(f'max_{i + 1}_step: {results[2][i][2]}')\n",
        "\n",
        "qualityArrZ = []\n",
        "for i in range(len(results[2])):\n",
        "    qualityArrZ += results[2][i][3]\n",
        "\n",
        "print(f'max Z: {max(qualityArrZ)}')"
      ]
    },
    {
      "cell_type": "markdown",
      "metadata": {
        "cell_id": "929bb0b8605d4533822363a5f5845ad1",
        "deepnote_cell_type": "markdown"
      },
      "source": [
        "### 1.2.1 Пример\n",
        "Итак, начальные условия задачи представляют собой следующий граф с расстояниями между ребрами:\n",
        "\n",
        "![img](https://i.ibb.co/wQqb70q/image.png)"
      ]
    },
    {
      "cell_type": "code",
      "execution_count": 40,
      "metadata": {
        "cell_id": "519ca3bb542f47cc9986c7ebe218a6f0",
        "deepnote_cell_type": "code",
        "deepnote_to_be_reexecuted": false,
        "execution_millis": 2191,
        "execution_start": 1682677050179,
        "source_hash": "b382aae7"
      },
      "outputs": [],
      "source": [
        "# Импортируем библиотеки:\n",
        "import networkx as nx\n",
        "from math import e"
      ]
    },
    {
      "cell_type": "markdown",
      "metadata": {
        "cell_id": "b59401cea24f485086519a956bbb1af4",
        "deepnote_cell_type": "markdown"
      },
      "source": [
        "Далее, опишем массив длин ребер, последовательности прохождение вершин на маршруте и их замены, значения P, а также начальную температуру:"
      ]
    },
    {
      "cell_type": "code",
      "execution_count": 41,
      "metadata": {
        "cell_id": "a419681743fe447c9fd9d14984a535f1",
        "deepnote_cell_type": "code",
        "deepnote_to_be_reexecuted": false,
        "execution_millis": 31,
        "execution_start": 1682676939786,
        "source_hash": "c55cabcb"
      },
      "outputs": [],
      "source": [
        "distances = [(1, 2, 20),\n",
        "            (1, 3, 40),\n",
        "            (1, 4, 42), \n",
        "            (1, 5, 33),\n",
        "            (1, 6, 21),\n",
        "            (2, 3, 26),\n",
        "            (2, 4, 38),\n",
        "            (2, 5, 42),\n",
        "            (2, 6, 17),\n",
        "            (3, 4, 22),\n",
        "            (3, 5, 43),\n",
        "            (3, 6, 21),\n",
        "            (4, 5, 27),\n",
        "            (4, 6, 22),\n",
        "            (5, 6, 26)] #длины рёбер\n",
        "\n",
        "V = [1, 4, 5, 2, 6, 3, 1] #последовательность прохождения маршрута\n",
        "Z = [(3, 4),\n",
        "    (4, 6),\n",
        "    (5, 2),\n",
        "    (6, 2)] #последовательность замен вершин\n",
        "P = [49, 54, 43, 54] #случайные числа, выпавшие в процессе счёта\n",
        "\n",
        "T = 100 #начальная температура"
      ]
    },
    {
      "cell_type": "code",
      "execution_count": 19,
      "metadata": {
        "cell_id": "e3b3e2dc9b474e3ab0a4b5d769d35104",
        "deepnote_cell_type": "code",
        "deepnote_to_be_reexecuted": false,
        "execution_millis": 7,
        "execution_start": 1682676975111,
        "source_hash": "158d9ef7"
      },
      "outputs": [],
      "source": [
        "#функция вероятности\n",
        "def probability(delta, T):\n",
        "    return 100 * e ** (-delta / T)\n",
        "\n",
        "#функция изменения температуры\n",
        "def reductTemp(prevT):\n",
        "    nextT = 0.5 * prevT\n",
        "    return nextT"
      ]
    },
    {
      "cell_type": "markdown",
      "metadata": {
        "cell_id": "f80fc1722a564346b322973cf4ae011d",
        "deepnote_cell_type": "markdown"
      },
      "source": [
        "Построим граф по заданным вершинам, как в начальном условии:"
      ]
    },
    {
      "cell_type": "code",
      "execution_count": 20,
      "metadata": {
        "cell_id": "27070db0f0ff4e308dc6ab3a641d3600",
        "deepnote_cell_type": "code",
        "deepnote_to_be_reexecuted": false,
        "execution_millis": 1532,
        "execution_start": 1682677056782,
        "source_hash": "d889c079"
      },
      "outputs": [
        {
          "data": {
            "image/png": "[encoded data removed]",
            "text/plain": [
              "<Figure size 640x480 with 1 Axes>"
            ]
          },
          "metadata": {},
          "output_type": "display_data"
        }
      ],
      "source": [
        "graph = nx.Graph() # создание пустого графа\n",
        "graph.add_weighted_edges_from(distances) # добавление весов рёбер\n",
        "\n",
        "# отрисовка графа с заданными вершинами\n",
        "nx.draw_kamada_kawai(graph, node_color='#fb7258', node_size=2000, with_labels=True)"
      ]
    },
    {
      "cell_type": "markdown",
      "metadata": {
        "cell_id": "b6f7ff2eee38404882321b1cb6e09c2e",
        "deepnote_cell_type": "markdown"
      },
      "source": [
        "Теперь, напишем необходимые, согласно алгоритму выше, функции для работы метода имитации отжига. Вычислим длину ребра:"
      ]
    },
    {
      "cell_type": "code",
      "execution_count": 21,
      "metadata": {
        "cell_id": "dc7b98a51ca841b1969b338becb1715f",
        "deepnote_cell_type": "code",
        "deepnote_to_be_reexecuted": false,
        "execution_millis": 1,
        "execution_start": 1682677061766,
        "source_hash": "67dc1fb6"
      },
      "outputs": [],
      "source": [
        "# вычисление длины ребра\n",
        "def edgeLength(i, j, distances, roundTrip=True):\n",
        "    if roundTrip:\n",
        "        return max([(item[2] if (item[0] == i and item[1] == j) or (item[1] == i and item[0] == j) else -1)\n",
        "                   for item in distances])\n",
        "    else:\n",
        "        return max([(item[2] if (item[0] == i and item[1] == j) else -1) for item in distances])"
      ]
    },
    {
      "cell_type": "code",
      "execution_count": 22,
      "metadata": {
        "cell_id": "0762c1afaf594970b374d80e98fb616e",
        "deepnote_cell_type": "code",
        "deepnote_to_be_reexecuted": false,
        "execution_millis": 2,
        "execution_start": 1682677070002,
        "source_hash": "18228a9"
      },
      "outputs": [],
      "source": [
        "# вычисление длины маршрута\n",
        "def routeLength(V, distances):\n",
        "    edges = []\n",
        "    \n",
        "    for i in range(len(V) - 1):\n",
        "        edges.append(edgeLength(V[i], V[i + 1], distances))\n",
        "    \n",
        "    return sum(edges)"
      ]
    },
    {
      "cell_type": "code",
      "execution_count": 23,
      "metadata": {
        "cell_id": "d3fa8fc843b44682bfb40409ad6f4d1f",
        "deepnote_cell_type": "code",
        "deepnote_to_be_reexecuted": false,
        "execution_millis": 32,
        "execution_start": 1682677076658,
        "source_hash": "9ba94fdb"
      },
      "outputs": [],
      "source": [
        "#одна перестановка в пути\n",
        "def routeOneReplacement(arrV, Z, replacementByName=True):\n",
        "    decrement = 1 if replacementByName else 0\n",
        "    \n",
        "    arrV[Z[0] - decrement], arrV[Z[1] - decrement] = arrV[Z[1] - decrement], arrV[Z[0] - decrement]\n",
        "\n",
        "    return arrV"
      ]
    },
    {
      "cell_type": "code",
      "execution_count": 24,
      "metadata": {
        "cell_id": "bce1efe579494d08afe842cd5fd6d8d0",
        "deepnote_cell_type": "code",
        "deepnote_to_be_reexecuted": false,
        "execution_millis": 3,
        "execution_start": 1682677083485,
        "source_hash": "f93e50a3"
      },
      "outputs": [],
      "source": [
        "#перестановка в пути\n",
        "def routeReplacement(V, Z):\n",
        "    for z in Z:\n",
        "        V = routeOneReplacement(V, z)\n",
        "    return V"
      ]
    },
    {
      "cell_type": "code",
      "execution_count": 25,
      "metadata": {
        "cell_id": "a6888e9e12ea4f9d9bb3da4ff67dfd89",
        "deepnote_cell_type": "code",
        "deepnote_to_be_reexecuted": false,
        "execution_millis": 2,
        "execution_start": 1682677086961,
        "source_hash": "881df55d"
      },
      "outputs": [],
      "source": [
        "#выбор нужного пути методом отжига\n",
        "def chooseRoute(distances, V, Z, T, P):\n",
        "    sumLength = routeLength(V, distances) #нахождение длины пути\n",
        "    arrSum = [sumLength] #массив сумм длин\n",
        "    \n",
        "    #циклы методом отжига\n",
        "    for i in range(len(Z)):\n",
        "        newV = routeOneReplacement(V[:], Z[i]) #новый маршрут после перестановки\n",
        "        newS = routeLength(newV, distances) #длина нового маршрута\n",
        "        arrSum.append(newS)\n",
        "        deltaS = newS - sumLength #разница между длиной нового и старого маршрутов\n",
        "        \n",
        "        #в случае, если разница между длинами больше 0, то вычисляется вероятность\n",
        "        if deltaS > 0:\n",
        "            p = probability(deltaS, T) #подсчёт вероятности\n",
        "            \n",
        "            #если заданная вероятность попадает в интервал от 0 до p, то новый маршрут выбирается\n",
        "            if p > P[i]:\n",
        "                V = newV\n",
        "                sumLength = newS\n",
        "        else:\n",
        "            V = newV\n",
        "            sumLength = newS\n",
        "            \n",
        "        T = reductTemp(T) #вычисление температуры\n",
        "    \n",
        "    return V, arrSum"
      ]
    },
    {
      "cell_type": "code",
      "execution_count": 26,
      "metadata": {
        "cell_id": "ce11f78d8fb84b64853359c3a3211f4e",
        "deepnote_cell_type": "code",
        "deepnote_to_be_reexecuted": false,
        "execution_millis": 3,
        "execution_start": 1682677091890,
        "source_hash": "ce3124e"
      },
      "outputs": [],
      "source": [
        "#отрисовка графа по заданному маршруту\n",
        "def drawRouteGraph(distances, bestRoute):\n",
        "    newDistances = []\n",
        "    #прохождение по вектору\n",
        "    for i in range(len(bestRoute) - 1):\n",
        "        for distance in distances:\n",
        "            if distance[0] == bestRoute[i] and distance[1] == bestRoute[i + 1] or distance[1] == bestRoute[i] and distance[0] == bestRoute[i + 1]:\n",
        "                newDistances.append(distance)\n",
        "    \n",
        "    graph = nx.Graph() #создание пустого графа\n",
        "    \n",
        "    graph.add_weighted_edges_from(newDistances) #добавление весов рёбер\n",
        "    #отрисовка графа с заданными вершинами\n",
        "    nx.draw_kamada_kawai(graph, node_color='#fb7258', node_size=2000, with_labels=True)"
      ]
    },
    {
      "cell_type": "markdown",
      "metadata": {
        "cell_id": "910fdf4275004b54bfdb94166631a302",
        "deepnote_cell_type": "markdown"
      },
      "source": [
        "И, наконец, рассчитаем наилучший маршрут и его длину:"
      ]
    },
    {
      "cell_type": "code",
      "execution_count": 27,
      "metadata": {
        "cell_id": "6030c02cba24441088f9199655522127",
        "deepnote_cell_type": "code",
        "deepnote_to_be_reexecuted": false,
        "execution_millis": 363,
        "execution_start": 1682677099053,
        "source_hash": "34052529"
      },
      "outputs": [
        {
          "name": "stdout",
          "output_type": "stream",
          "text": [
            "Лучший выбранный маршрут: [1, 6, 2, 3, 4, 5, 1]\n",
            "Длина лучшего выбранного маршрута: 146\n",
            "Длины всех рассмотренных маршрутов: [189, 209, 186, 146, 166]\n"
          ]
        },
        {
          "data": {
            "image/png": "[encoded data removed]",
            "text/plain": [
              "<Figure size 640x480 with 1 Axes>"
            ]
          },
          "metadata": {},
          "output_type": "display_data"
        }
      ],
      "source": [
        "bestRoute, arrLength = chooseRoute(distances, V, Z, T, P)\n",
        "\n",
        "print(f'Лучший выбранный маршрут: {bestRoute}')\n",
        "print(f'Длина лучшего выбранного маршрута: {routeLength(bestRoute, distances)}')\n",
        "print(f'Длины всех рассмотренных маршрутов: {arrLength}')\n",
        "\n",
        "drawRouteGraph(distances, bestRoute) #отрисовка лучшего маршрута"
      ]
    },
    {
      "cell_type": "markdown",
      "metadata": {
        "cell_id": "77378f265e484a62b868958dc4327f03",
        "deepnote_cell_type": "markdown"
      },
      "source": [
        "### Задание\n",
        "Найти длину гамильтонова цикла S4 в полном графе K6 после четырех циклов решения задачи методом отжига по вариантам ниже.\n",
        "\n",
        "![img](https://i.ibb.co/gwPt7Vb/image.png)"
      ]
    },
    {
      "cell_type": "code",
      "execution_count": 42,
      "metadata": {
        "cell_id": "af445eb683594a3a8d4b133c554e403b",
        "deepnote_cell_type": "code",
        "deepnote_to_be_reexecuted": false,
        "execution_millis": 5,
        "execution_start": 1682677203123,
        "source_hash": "6a3c900b"
      },
      "outputs": [],
      "source": [
        "distances = [(1, 2, 18),\n",
        "            (1, 3, 39),\n",
        "            (1, 4, 35), \n",
        "            (1, 5, 26),\n",
        "            (1, 6, 18),\n",
        "            (2, 3, 26),\n",
        "            (2, 4, 33),\n",
        "            (2, 5, 37),\n",
        "            (2, 6, 14),\n",
        "            (3, 4, 22),\n",
        "            (3, 5, 41),\n",
        "            (3, 6, 21),\n",
        "            (4, 5, 22),\n",
        "            (4, 6, 19),\n",
        "            (5, 6, 24)] #длины рёбер\n",
        "\n",
        "V = [1, 4, 2, 3, 5, 6, 1] #последовательность прохождения маршрута\n",
        "Z = [(5, 2),\n",
        "    (4, 5),\n",
        "    (2, 3),\n",
        "    (3, 4)] #последовательность замен вершин\n",
        "P = [88, 54, 24, 64] #случайные числа, выпавшие в процессе счёта\n",
        "\n",
        "T = 100 #начальная температура"
      ]
    },
    {
      "cell_type": "code",
      "execution_count": 43,
      "metadata": {
        "cell_id": "590a3d7ce9de45d6b2c4101041563b4a",
        "deepnote_cell_type": "code",
        "deepnote_to_be_reexecuted": false,
        "execution_millis": 3,
        "execution_start": 1682677215126,
        "source_hash": "158d9ef7"
      },
      "outputs": [],
      "source": [
        "#функция вероятности\n",
        "def probability(delta, T):\n",
        "    return 100 * e ** (-delta / T)\n",
        "\n",
        "#функция изменения температуры\n",
        "def reductTemp(prevT):\n",
        "    nextT = 0.5 * prevT\n",
        "    return nextT"
      ]
    },
    {
      "cell_type": "code",
      "execution_count": 44,
      "metadata": {
        "cell_id": "db2517fa21034048bc02afe71388e4e8",
        "deepnote_cell_type": "code",
        "deepnote_to_be_reexecuted": false,
        "execution_millis": 6,
        "execution_start": 1682677232593,
        "source_hash": "67dc1fb6"
      },
      "outputs": [],
      "source": [
        "# вычисление длины ребра\n",
        "def edgeLength(i, j, distances, roundTrip=True):\n",
        "    if roundTrip:\n",
        "        return max([(item[2] if (item[0] == i and item[1] == j) or (item[1] == i and item[0] == j) else -1)\n",
        "                   for item in distances])\n",
        "    else:\n",
        "        return max([(item[2] if (item[0] == i and item[1] == j) else -1) for item in distances])"
      ]
    },
    {
      "cell_type": "code",
      "execution_count": 45,
      "metadata": {
        "cell_id": "7fcdbba170ce41d88d4d8c5db6df5049",
        "deepnote_cell_type": "code",
        "deepnote_to_be_reexecuted": false,
        "execution_millis": 2,
        "execution_start": 1682677245663,
        "source_hash": "18228a9"
      },
      "outputs": [],
      "source": [
        "# вычисление длины маршрута\n",
        "def routeLength(V, distances):\n",
        "    edges = []\n",
        "    \n",
        "    for i in range(len(V) - 1):\n",
        "        edges.append(edgeLength(V[i], V[i + 1], distances))\n",
        "    \n",
        "    return sum(edges)"
      ]
    },
    {
      "cell_type": "code",
      "execution_count": 46,
      "metadata": {
        "cell_id": "65af681e55db4128b74f98f9e5cb4c09",
        "deepnote_cell_type": "code",
        "deepnote_to_be_reexecuted": false,
        "execution_millis": 3,
        "execution_start": 1682677260378,
        "source_hash": "9ba94fdb"
      },
      "outputs": [],
      "source": [
        "#одна перестановка в пути\n",
        "def routeOneReplacement(arrV, Z, replacementByName=True):\n",
        "    decrement = 1 if replacementByName else 0\n",
        "    \n",
        "    arrV[Z[0] - decrement], arrV[Z[1] - decrement] = arrV[Z[1] - decrement], arrV[Z[0] - decrement]\n",
        "\n",
        "    return arrV"
      ]
    },
    {
      "cell_type": "code",
      "execution_count": 47,
      "metadata": {
        "cell_id": "e0aedd1c579e4095bf6e4588cc513e7f",
        "deepnote_cell_type": "code",
        "deepnote_to_be_reexecuted": false,
        "execution_millis": 4,
        "execution_start": 1682677268325,
        "source_hash": "f93e50a3"
      },
      "outputs": [],
      "source": [
        "#перестановка в пути\n",
        "def routeReplacement(V, Z):\n",
        "    for z in Z:\n",
        "        V = routeOneReplacement(V, z)\n",
        "    return V"
      ]
    },
    {
      "cell_type": "code",
      "execution_count": 48,
      "metadata": {
        "cell_id": "b61b110f83ba4c03a8c78c800032d56b",
        "deepnote_cell_type": "code",
        "deepnote_to_be_reexecuted": false,
        "execution_millis": 2,
        "execution_start": 1682677284919,
        "source_hash": "881df55d"
      },
      "outputs": [],
      "source": [
        "#выбор нужного пути методом отжига\n",
        "def chooseRoute(distances, V, Z, T, P):\n",
        "    sumLength = routeLength(V, distances) #нахождение длины пути\n",
        "    arrSum = [sumLength] #массив сумм длин\n",
        "    \n",
        "    #циклы методом отжига\n",
        "    for i in range(len(Z)):\n",
        "        newV = routeOneReplacement(V[:], Z[i]) #новый маршрут после перестановки\n",
        "        newS = routeLength(newV, distances) #длина нового маршрута\n",
        "        arrSum.append(newS)\n",
        "        deltaS = newS - sumLength #разница между длиной нового и старого маршрутов\n",
        "        \n",
        "        #в случае, если разница между длинами больше 0, то вычисляется вероятность\n",
        "        if deltaS > 0:\n",
        "            p = probability(deltaS, T) #подсчёт вероятности\n",
        "            \n",
        "            #если заданная вероятность попадает в интервал от 0 до p, то новый маршрут выбирается\n",
        "            if p > P[i]:\n",
        "                V = newV\n",
        "                sumLength = newS\n",
        "        else:\n",
        "            V = newV\n",
        "            sumLength = newS\n",
        "            \n",
        "        T = reductTemp(T) #вычисление температуры\n",
        "    \n",
        "    return V, arrSum"
      ]
    },
    {
      "cell_type": "code",
      "execution_count": 49,
      "metadata": {
        "cell_id": "04a4e163c2f3400aa9fa1fcfce80fa1b",
        "deepnote_cell_type": "code",
        "deepnote_to_be_reexecuted": false,
        "execution_millis": 1,
        "execution_start": 1682677295423,
        "source_hash": "ce3124e"
      },
      "outputs": [],
      "source": [
        "#отрисовка графа по заданному маршруту\n",
        "def drawRouteGraph(distances, bestRoute):\n",
        "    newDistances = []\n",
        "    #прохождение по вектору\n",
        "    for i in range(len(bestRoute) - 1):\n",
        "        for distance in distances:\n",
        "            if distance[0] == bestRoute[i] and distance[1] == bestRoute[i + 1] or distance[1] == bestRoute[i] and distance[0] == bestRoute[i + 1]:\n",
        "                newDistances.append(distance)\n",
        "    \n",
        "    graph = nx.Graph() #создание пустого графа\n",
        "    \n",
        "    graph.add_weighted_edges_from(newDistances) #добавление весов рёбер\n",
        "    #отрисовка графа с заданными вершинами\n",
        "    nx.draw_kamada_kawai(graph, node_color='#fb7258', node_size=2000, with_labels=True)"
      ]
    },
    {
      "cell_type": "code",
      "execution_count": 50,
      "metadata": {
        "cell_id": "bc9a1a7a3d0b4e69a668a11a8eeec367",
        "deepnote_cell_type": "code",
        "deepnote_to_be_reexecuted": false,
        "execution_millis": 136,
        "execution_start": 1682677335048,
        "source_hash": "34052529"
      },
      "outputs": [
        {
          "name": "stdout",
          "output_type": "stream",
          "text": [
            "Лучший выбранный маршрут: [1, 2, 5, 4, 3, 6, 1]\n",
            "Длина лучшего выбранного маршрута: 138\n",
            "Длины всех рассмотренных маршрутов: [177, 148, 157, 138, 153]\n"
          ]
        },
        {
          "data": {
            "image/png": "[encoded data removed]",
            "text/plain": [
              "<Figure size 640x480 with 1 Axes>"
            ]
          },
          "metadata": {},
          "output_type": "display_data"
        }
      ],
      "source": [
        "bestRoute, arrLength = chooseRoute(distances, V, Z, T, P)\n",
        "\n",
        "print(f'Лучший выбранный маршрут: {bestRoute}')\n",
        "print(f'Длина лучшего выбранного маршрута: {routeLength(bestRoute, distances)}')\n",
        "print(f'Длины всех рассмотренных маршрутов: {arrLength}')\n",
        "\n",
        "drawRouteGraph(distances, bestRoute) #отрисовка лучшего маршрута"
      ]
    },
    {
      "cell_type": "markdown",
      "metadata": {
        "created_in_deepnote_cell": true,
        "deepnote_cell_type": "markdown"
      },
      "source": [
        "<a style='text-decoration:none;line-height:16px;display:flex;color:#5B5B62;padding:10px;justify-content:end;' href='https://deepnote.com?utm_source=created-in-deepnote-cell&projectId=2480ccc6-6a1b-4590-b704-15c4e752c693' target=\"_blank\">\n",
        "<img alt='Created in deepnote.com' style='display:inline;max-height:16px;margin:0px;margin-right:7.5px;' src='data:image/svg+xml;base64,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' > </img>\n",
        "Created in <span style='font-weight:600;margin-left:4px;'>Deepnote</span></a>"
      ]
    }
  ],
  "metadata": {
    "deepnote": {},
    "deepnote_execution_queue": [],
    "deepnote_notebook_id": "5a6fe8aa532b44169c7558e0d497a6fd",
    "deepnote_persisted_session": {
      "createdAt": "2023-04-28T10:42:23.375Z"
    },
    "kernelspec": {
      "display_name": "Python 3",
      "language": "python",
      "name": "python3"
    },
    "language_info": {
      "codemirror_mode": {
        "name": "ipython",
        "version": 3
      },
      "file_extension": ".py",
      "mimetype": "text/x-python",
      "name": "python",
      "nbconvert_exporter": "python",
      "pygments_lexer": "ipython3",
      "version": "3.12.2"
    },
    "orig_nbformat": 2
  },
  "nbformat": 4,
  "nbformat_minor": 0
}
